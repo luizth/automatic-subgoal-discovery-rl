{
 "cells": [
  {
   "cell_type": "code",
   "execution_count": 20,
   "id": "43aadbdd",
   "metadata": {},
   "outputs": [],
   "source": [
    "\"\"\" Imports \"\"\"\n",
    "\n",
    "import numpy as np\n",
    "import matplotlib.pyplot as plt\n",
    "\n",
    "from core import (\n",
    "    Policy,\n",
    "    Option,\n",
    "    Subtask,\n",
    "    RewardRespectingFeatureAttainment,\n",
    ")\n",
    "from plot import (\n",
    "    plot_deterministic_policy,\n",
    "    plot_heatmap_from_state_scores\n",
    ")\n",
    "from agent import SMDPQLearning\n",
    "from env import (\n",
    "    TwoRooms,\n",
    "    FourRooms,\n",
    "    get_primitive_actions_as_options\n",
    ")\n",
    "\n",
    "from trajectory_sampler import sample, reset\n",
    "from empowerment import compute_empowerment\n",
    "from option_learning import (\n",
    "    actor_critic,\n",
    "    to_deterministic_policy\n",
    ")"
   ]
  },
  {
   "cell_type": "code",
   "execution_count": 2,
   "id": "a72444d6",
   "metadata": {},
   "outputs": [
    {
     "name": "stdout",
     "output_type": "stream",
     "text": [
      "Environment: TwoRooms\n"
     ]
    }
   ],
   "source": [
    "\"\"\" Environment setup \"\"\"\n",
    "\n",
    "# Start states\n",
    "tworooms_default_s0 = 24\n",
    "\n",
    "tworooms_left_room = [\n",
    "    0, 1, 2, 3, 4, 5,\n",
    "    12, 13, 14, 15, 16, 17,\n",
    "    24, 25, 26, 27, 28, 29,\n",
    "    36, 37, 38, 39, 40, 41,\n",
    "    48, 49, 50, 51, 52, 53,\n",
    "    60, 61, 62, 63, 64, 65,\n",
    "]\n",
    "\n",
    "fourrooms_default_s0 = 30\n",
    "\n",
    "fourrooms_first_room = [\n",
    "    0, 1, 2, 3, 4,\n",
    "    10, 11, 12, 13, 14,\n",
    "    20, 21, 22, 23, 24,\n",
    "    30, 31, 32, 33, 34,\n",
    "    40, 41, 42, 43, 44,\n",
    "]\n",
    "\n",
    "# Create the environment\n",
    "tworooms = TwoRooms(\n",
    "    start_state=tworooms_default_s0,\n",
    "    goal_state=68,\n",
    "    negative_states_config=\"none\",\n",
    "    max_steps=None\n",
    ")\n",
    "\n",
    "fourrooms = FourRooms(\n",
    "    start_state=fourrooms_first_room,\n",
    "    goal_state=75,\n",
    "    negative_states_config=\"default\",\n",
    "    max_steps=None,\n",
    "    sparse_rewards=True\n",
    ")\n",
    "\n",
    "env = tworooms\n",
    "\n",
    "print(\"Environment:\", env.__class__.__name__)"
   ]
  },
  {
   "cell_type": "code",
   "execution_count": 3,
   "id": "8371c7ae",
   "metadata": {},
   "outputs": [
    {
     "name": "stdout",
     "output_type": "stream",
     "text": [
      "Agent: SMDPQLearning\n"
     ]
    }
   ],
   "source": [
    "\"\"\" Agent setup \"\"\"\n",
    "\n",
    "# Set up the agent with primitive options (actions)\n",
    "primitive_options = get_primitive_actions_as_options(env)\n",
    "\n",
    "agent = SMDPQLearning(\n",
    "    env,\n",
    "    primitive_options,\n",
    "    learning_rate=0.1,\n",
    "    discount_factor=0.99,\n",
    "    exploration_rate=0.1,\n",
    "    min_exploration_rate=0.1,\n",
    "    exploration_decay=1,\n",
    "    store_experience=True\n",
    ")\n",
    "\n",
    "print(\"Agent:\", agent.__class__.__name__)\n"
   ]
  },
  {
   "cell_type": "code",
   "execution_count": 4,
   "id": "85f7a869",
   "metadata": {},
   "outputs": [
    {
     "data": {
      "text/plain": [
       "(<env.TwoRooms at 0x24ac84da660>, <agent.SMDPQLearning at 0x24ae616b620>)"
      ]
     },
     "execution_count": 4,
     "metadata": {},
     "output_type": "execute_result"
    }
   ],
   "source": [
    "\"\"\" Reset \"\"\"\n",
    "\n",
    "# Reset the environment and agent\n",
    "reset(env, agent)"
   ]
  },
  {
   "cell_type": "code",
   "execution_count": 5,
   "id": "09842e65",
   "metadata": {},
   "outputs": [
    {
     "name": "stdout",
     "output_type": "stream",
     "text": [
      "Sampling trajectories... "
     ]
    },
    {
     "name": "stderr",
     "output_type": "stream",
     "text": [
      "  0%|          | 0/20 [00:00<?, ?it/s]"
     ]
    },
    {
     "name": "stderr",
     "output_type": "stream",
     "text": [
      "100%|██████████| 20/20 [00:00<00:00, 25.07it/s]"
     ]
    },
    {
     "name": "stdout",
     "output_type": "stream",
     "text": [
      "done.\n"
     ]
    },
    {
     "name": "stderr",
     "output_type": "stream",
     "text": [
      "\n"
     ]
    }
   ],
   "source": [
    "\"\"\" Simulate first stage of training \"\"\"\n",
    "\n",
    "# Number of sampled trajectories in first stage of training\n",
    "n = 20\n",
    "\n",
    "print(\"Sampling trajectories...\", end=\" \")\n",
    "trajectories, results, steps = sample(env, agent, n)\n",
    "print(\"done.\")"
   ]
  },
  {
   "cell_type": "code",
   "execution_count": 6,
   "id": "0cc35b2a",
   "metadata": {},
   "outputs": [],
   "source": [
    "# dummy"
   ]
  },
  {
   "cell_type": "code",
   "execution_count": 7,
   "id": "6871c733",
   "metadata": {},
   "outputs": [
    {
     "name": "stdout",
     "output_type": "stream",
     "text": [
      "Collected experience in buffer 3552\n",
      "IndexError for state 29, action 3, next_state 68.\n",
      "IndexError for state 68, action 0, next_state 68.\n",
      "IndexError for state 68, action 3, next_state 30.\n",
      "IndexError for state 55, action 1, next_state 67.\n",
      "IndexError for state 67, action 2, next_state 66.\n",
      "IndexError for state 66, action 3, next_state 67.\n",
      "IndexError for state 29, action 3, next_state 68.\n",
      "IndexError for state 68, action 3, next_state 30.\n",
      "IndexError for state 57, action 1, next_state 69.\n",
      "IndexError for state 69, action 1, next_state 69.\n",
      "IndexError for state 69, action 1, next_state 69.\n",
      "IndexError for state 69, action 1, next_state 69.\n",
      "IndexError for state 69, action 3, next_state 70.\n",
      "IndexError for state 70, action 2, next_state 69.\n",
      "IndexError for state 69, action 1, next_state 69.\n",
      "IndexError for state 69, action 1, next_state 69.\n",
      "IndexError for state 69, action 0, next_state 57.\n",
      "IndexError for state 55, action 1, next_state 67.\n",
      "IndexError for state 29, action 3, next_state 68.\n",
      "IndexError for state 68, action 3, next_state 30.\n",
      "IndexError for state 30, action 2, next_state 68.\n",
      "IndexError for state 68, action 2, next_state 29.\n",
      "IndexError for state 29, action 3, next_state 68.\n",
      "IndexError for state 68, action 1, next_state 68.\n",
      "IndexError for state 68, action 2, next_state 29.\n",
      "IndexError for state 29, action 3, next_state 68.\n",
      "IndexError for state 68, action 2, next_state 29.\n",
      "IndexError for state 29, action 3, next_state 68.\n",
      "IndexError for state 68, action 1, next_state 68.\n",
      "IndexError for state 68, action 0, next_state 68.\n",
      "IndexError for state 68, action 1, next_state 68.\n",
      "IndexError for state 68, action 1, next_state 68.\n",
      "IndexError for state 68, action 2, next_state 29.\n",
      "IndexError for state 29, action 3, next_state 68.\n",
      "IndexError for state 68, action 2, next_state 29.\n",
      "IndexError for state 29, action 3, next_state 68.\n",
      "IndexError for state 68, action 3, next_state 30.\n",
      "IndexError for state 55, action 1, next_state 67.\n",
      "IndexError for state 29, action 3, next_state 68.\n",
      "IndexError for state 68, action 0, next_state 68.\n",
      "IndexError for state 68, action 2, next_state 29.\n",
      "IndexError for state 29, action 3, next_state 68.\n",
      "IndexError for state 68, action 3, next_state 30.\n",
      "IndexError for state 30, action 2, next_state 68.\n",
      "IndexError for state 68, action 1, next_state 68.\n",
      "IndexError for state 68, action 3, next_state 30.\n",
      "IndexError for state 55, action 1, next_state 67.\n",
      "IndexError for state 29, action 3, next_state 68.\n",
      "IndexError for state 68, action 0, next_state 68.\n",
      "IndexError for state 68, action 1, next_state 68.\n",
      "IndexError for state 68, action 3, next_state 30.\n",
      "IndexError for state 30, action 2, next_state 68.\n",
      "IndexError for state 68, action 1, next_state 68.\n",
      "IndexError for state 68, action 1, next_state 68.\n",
      "IndexError for state 68, action 1, next_state 68.\n",
      "IndexError for state 68, action 2, next_state 29.\n",
      "IndexError for state 29, action 3, next_state 68.\n",
      "IndexError for state 68, action 2, next_state 29.\n",
      "IndexError for state 29, action 3, next_state 68.\n",
      "IndexError for state 68, action 3, next_state 30.\n",
      "IndexError for state 30, action 2, next_state 68.\n",
      "IndexError for state 68, action 3, next_state 30.\n",
      "IndexError for state 57, action 1, next_state 69.\n",
      "IndexError for state 69, action 1, next_state 69.\n",
      "IndexError for state 69, action 3, next_state 70.\n",
      "IndexError for state 70, action 1, next_state 70.\n",
      "IndexError for state 70, action 3, next_state 71.\n",
      "IndexError for state 71, action 0, next_state 59.\n",
      "IndexError for state 55, action 1, next_state 67.\n",
      "IndexError for state 29, action 3, next_state 68.\n",
      "IndexError for state 68, action 3, next_state 30.\n",
      "IndexError for state 30, action 2, next_state 68.\n",
      "IndexError for state 68, action 2, next_state 29.\n",
      "IndexError for state 29, action 3, next_state 68.\n",
      "IndexError for state 68, action 2, next_state 29.\n",
      "IndexError for state 29, action 3, next_state 68.\n",
      "IndexError for state 68, action 0, next_state 68.\n",
      "IndexError for state 68, action 3, next_state 30.\n",
      "IndexError for state 55, action 1, next_state 67.\n",
      "IndexError for state 29, action 3, next_state 68.\n",
      "IndexError for state 68, action 2, next_state 29.\n",
      "IndexError for state 29, action 3, next_state 68.\n",
      "IndexError for state 68, action 3, next_state 30.\n",
      "IndexError for state 55, action 1, next_state 67.\n",
      "IndexError for state 29, action 3, next_state 68.\n",
      "IndexError for state 68, action 3, next_state 30.\n",
      "IndexError for state 55, action 1, next_state 67.\n",
      "IndexError for state 29, action 3, next_state 68.\n",
      "IndexError for state 68, action 2, next_state 29.\n",
      "IndexError for state 29, action 3, next_state 68.\n",
      "IndexError for state 68, action 3, next_state 30.\n",
      "IndexError for state 55, action 1, next_state 67.\n",
      "IndexError for state 29, action 3, next_state 68.\n",
      "IndexError for state 68, action 3, next_state 30.\n",
      "IndexError for state 55, action 1, next_state 67.\n",
      "IndexError for state 29, action 3, next_state 68.\n",
      "IndexError for state 68, action 3, next_state 30.\n",
      "IndexError for state 55, action 1, next_state 67.\n",
      "IndexError for state 29, action 3, next_state 68.\n",
      "IndexError for state 68, action 3, next_state 30.\n",
      "IndexError for state 55, action 1, next_state 67.\n",
      "IndexError for state 29, action 3, next_state 68.\n",
      "IndexError for state 68, action 3, next_state 30.\n",
      "IndexError for state 55, action 1, next_state 67.\n",
      "IndexError for state 29, action 3, next_state 68.\n",
      "IndexError for state 68, action 3, next_state 30.\n",
      "IndexError for state 55, action 1, next_state 67.\n",
      "IndexError for state 29, action 3, next_state 68.\n",
      "IndexError for state 68, action 3, next_state 30.\n",
      "IndexError for state 55, action 1, next_state 67.\n",
      "IndexError for state 29, action 3, next_state 68.\n",
      "IndexError for state 68, action 3, next_state 30.\n",
      "IndexError for state 55, action 1, next_state 67.\n",
      "IndexError for state 29, action 3, next_state 68.\n",
      "IndexError for state 68, action 3, next_state 30.\n",
      "IndexError for state 55, action 1, next_state 67.\n",
      "IndexError for state 29, action 3, next_state 68.\n",
      "IndexError for state 68, action 3, next_state 30.\n",
      "IndexError for state 55, action 1, next_state 67.\n",
      "IndexError for state 29, action 3, next_state 68.\n",
      "IndexError for state 68, action 3, next_state 30.\n",
      "IndexError for state 55, action 1, next_state 67.\n",
      "IndexError for state 29, action 3, next_state 68.\n",
      "IndexError for state 68, action 3, next_state 30.\n",
      "IndexError for state 55, action 1, next_state 67.\n",
      "Build transition matrix T of shape (67, 4, 67)\n",
      "Selected 3 states with highest empowerment scores [39, 18, 19]\n",
      "Subgoal randomly selected 18\n"
     ]
    }
   ],
   "source": [
    "\"\"\" Run the offline procedure to compute empowerment \"\"\"\n",
    "\n",
    "# Get experience buffer\n",
    "eb = agent.eb.copy()\n",
    "print(\"Collected experience in buffer\", eb.size)\n",
    "\n",
    "# Build transition matrix\n",
    "states, actions, next_states = eb.transition_matrix()\n",
    "assert states.shape == actions.shape == next_states.shape\n",
    "\n",
    "unique_states = np.unique(states)\n",
    "unique_actions = np.unique(actions)\n",
    "unique_next_states = np.unique(next_states)\n",
    "\n",
    "T = np.zeros((unique_next_states.shape[0], unique_actions.shape[0], unique_states.shape[0]), dtype=np.float64)\n",
    "for s, a, ns in zip(states, actions, next_states):\n",
    "    try:\n",
    "        T[ns, a, s] = 1.\n",
    "    except IndexError:\n",
    "        print(f\"IndexError for state {s}, action {a}, next_state {ns}.\")\n",
    "        continue\n",
    "\n",
    "# Check the shape of the transition matrix\n",
    "print(\"Build transition matrix T of shape\", T.shape)\n",
    "\n",
    "# Compute empowerment score for each state\n",
    "emp_scores = {}\n",
    "for s in range(unique_states.shape[0]):\n",
    "    emp_scores[s] = compute_empowerment(T, 5, s)\n",
    "emp_scores\n",
    "\n",
    "# Select highest empowerment scores\n",
    "n_selected = 3\n",
    "empowerment_scores = sorted(emp_scores.items(), key=lambda state_emp: state_emp[1], reverse=True)\n",
    "selected = [state_emp[0] for state_emp in empowerment_scores[:n_selected]]\n",
    "print(\"Selected %d states with highest empowerment scores\" % n_selected, selected)\n",
    "\n",
    "# Define subgoal\n",
    "subgoal = np.random.choice(selected)\n",
    "print(\"Subgoal randomly selected\", subgoal)"
   ]
  },
  {
   "cell_type": "code",
   "execution_count": 8,
   "id": "db7c9d10",
   "metadata": {},
   "outputs": [
    {
     "data": {
      "image/png": "[encoded data removed]",
      "text/plain": [
       "<Figure size 640x480 with 2 Axes>"
      ]
     },
     "metadata": {},
     "output_type": "display_data"
    }
   ],
   "source": [
    "\"\"\" Visualize empowerment scores\"\"\"\n",
    "\n",
    "plot_heatmap_from_state_scores(env, emp_scores)\n"
   ]
  },
  {
   "cell_type": "code",
   "execution_count": null,
   "id": "9c6e12b2",
   "metadata": {},
   "outputs": [
    {
     "name": "stderr",
     "output_type": "stream",
     "text": [
      "100%|██████████| 50000/50000 [00:03<00:00, 13013.99it/s]\n"
     ]
    }
   ],
   "source": [
    "\"\"\" Learn an option to reach the subgoal \"\"\"\n",
    "\n",
    "# Create a subtask with the discovered subgoal\n",
    "subgoal1 = RewardRespectingFeatureAttainment(env, feature_attainment= subgoal)\n",
    "w, theta = actor_critic(subgoal1, alpha=0.1, gamma=0.99, alpha_=0.1, number_of_steps=50000)\n",
    "policy1: Policy = to_deterministic_policy(env, theta)\n"
   ]
  },
  {
   "cell_type": "code",
   "execution_count": 12,
   "id": "91702f73",
   "metadata": {},
   "outputs": [
    {
     "data": {
      "image/png": "[encoded data removed]",
      "text/plain": [
       "<Figure size 1000x600 with 1 Axes>"
      ]
     },
     "metadata": {},
     "output_type": "display_data"
    }
   ],
   "source": [
    "\"\"\" Visualize learned option \"\"\"\n",
    "\n",
    "plot_deterministic_policy(env, policy1, subgoal1)\n"
   ]
  },
  {
   "cell_type": "code",
   "execution_count": null,
   "id": "29807fa2",
   "metadata": {},
   "outputs": [
    {
     "ename": "TypeError",
     "evalue": "Option.__init__() got an unexpected keyword argument 'termination_condition'",
     "output_type": "error",
     "traceback": [
      "\u001b[31m---------------------------------------------------------------------------\u001b[39m",
      "\u001b[31mTypeError\u001b[39m                                 Traceback (most recent call last)",
      "\u001b[36mCell\u001b[39m\u001b[36m \u001b[39m\u001b[32mIn[13]\u001b[39m\u001b[32m, line 8\u001b[39m\n\u001b[32m      5\u001b[39m \u001b[38;5;250m    \u001b[39m\u001b[33;03m\"\"\" Termination condition for the option \"\"\"\u001b[39;00m\n\u001b[32m      6\u001b[39m     \u001b[38;5;28;01mreturn\u001b[39;00m state == subgoal \u001b[38;5;129;01mor\u001b[39;00m state == env.goal_transition_state\n\u001b[32m----> \u001b[39m\u001b[32m8\u001b[39m option1 = \u001b[43mOption\u001b[49m\u001b[43m(\u001b[49m\n\u001b[32m      9\u001b[39m \u001b[43m    \u001b[49m\u001b[38;5;28;43mid\u001b[39;49m\u001b[43m=\u001b[49m\u001b[33;43mf\u001b[39;49m\u001b[33;43m\"\u001b[39;49m\u001b[33;43mo1_to_subgoal_\u001b[39;49m\u001b[38;5;132;43;01m{\u001b[39;49;00m\u001b[43msubgoal\u001b[49m\u001b[38;5;132;43;01m}\u001b[39;49;00m\u001b[33;43m\"\u001b[39;49m\u001b[43m,\u001b[49m\n\u001b[32m     10\u001b[39m \u001b[43m    \u001b[49m\u001b[43minitiation_set\u001b[49m\u001b[43m=\u001b[49m\u001b[43munique_states\u001b[49m\u001b[43m,\u001b[49m\n\u001b[32m     11\u001b[39m \u001b[43m    \u001b[49m\u001b[43mpolicy\u001b[49m\u001b[43m=\u001b[49m\u001b[43mpolicy1\u001b[49m\u001b[43m,\u001b[49m\n\u001b[32m     12\u001b[39m \u001b[43m    \u001b[49m\u001b[43mtermination_condition\u001b[49m\u001b[43m=\u001b[49m\u001b[43mtermination_fn\u001b[49m\n\u001b[32m     13\u001b[39m \u001b[43m)\u001b[49m\n\u001b[32m     15\u001b[39m \u001b[38;5;66;03m# Add the option to the agent\u001b[39;00m\n\u001b[32m     16\u001b[39m agent.add_option(option1)\n",
      "\u001b[31mTypeError\u001b[39m: Option.__init__() got an unexpected keyword argument 'termination_condition'"
     ]
    }
   ],
   "source": [
    "\"\"\" Add the option to the agent \"\"\"\n",
    "\n",
    "# Define the option\n",
    "def termination_fn(state):\n",
    "    \"\"\" Termination condition for the option \"\"\"\n",
    "    return state == subgoal or state == env.goal_transition_state\n",
    "\n",
    "option1 = Option(\n",
    "    id=f\"o1_to_subgoal_{subgoal}\",\n",
    "    initiation_set=unique_states,\n",
    "    policy=policy1,\n",
    "    termination=termination_fn\n",
    ")\n",
    "\n",
    "# Add the option to the agent\n",
    "agent.add_option(option1)\n",
    "print(\"Added option\", option1.id, \"to agent.\")\n"
   ]
  },
  {
   "cell_type": "code",
   "execution_count": 15,
   "id": "10ee8ff5",
   "metadata": {},
   "outputs": [],
   "source": [
    "trajectories_before = trajectories.copy()\n",
    "results_before = results.copy()\n",
    "steps_before = steps.copy()\n"
   ]
  },
  {
   "cell_type": "code",
   "execution_count": 16,
   "id": "4d51943e",
   "metadata": {},
   "outputs": [
    {
     "name": "stdout",
     "output_type": "stream",
     "text": [
      "Sampling trajectories with option... "
     ]
    },
    {
     "name": "stderr",
     "output_type": "stream",
     "text": [
      "100%|██████████| 30/30 [00:00<00:00, 97.45it/s]"
     ]
    },
    {
     "name": "stdout",
     "output_type": "stream",
     "text": [
      "done.\n"
     ]
    },
    {
     "name": "stderr",
     "output_type": "stream",
     "text": [
      "\n"
     ]
    }
   ],
   "source": [
    "\"\"\" Simulate second stage of training \"\"\"\n",
    "\n",
    "# Number of sampled trajectories in second stage of training\n",
    "n = 30\n",
    "\n",
    "print(\"Sampling trajectories with option...\", end=\" \")\n",
    "trajectories, results, steps = sample(env, agent, n)\n",
    "print(\"done.\")\n"
   ]
  },
  {
   "cell_type": "code",
   "execution_count": 21,
   "id": "28b70cdb",
   "metadata": {},
   "outputs": [
    {
     "data": {
      "text/plain": [
       "[<matplotlib.lines.Line2D at 0x24ae87dac10>]"
      ]
     },
     "execution_count": 21,
     "metadata": {},
     "output_type": "execute_result"
    },
    {
     "data": {
      "image/png": "[encoded data removed]",
      "text/plain": [
       "<Figure size 640x480 with 1 Axes>"
      ]
     },
     "metadata": {},
     "output_type": "display_data"
    }
   ],
   "source": [
    "plt.plot(steps_before + steps)"
   ]
  },
  {
   "cell_type": "code",
   "execution_count": null,
   "id": "381293f8",
   "metadata": {},
   "outputs": [],
   "source": []
  }
 ],
 "metadata": {
  "kernelspec": {
   "display_name": ".venv",
   "language": "python",
   "name": "python3"
  },
  "language_info": {
   "codemirror_mode": {
    "name": "ipython",
    "version": 3
   },
   "file_extension": ".py",
   "mimetype": "text/x-python",
   "name": "python",
   "nbconvert_exporter": "python",
   "pygments_lexer": "ipython3",
   "version": "3.13.3"
  }
 },
 "nbformat": 4,
 "nbformat_minor": 5
}
